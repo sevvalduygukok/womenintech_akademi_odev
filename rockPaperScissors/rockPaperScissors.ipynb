{
 "cells": [
  {
   "cell_type": "code",
   "execution_count": null,
   "metadata": {},
   "outputs": [],
   "source": [
    "import random\n",
    "player_score = computer_score = 0\n",
    "computer_choice = 0\n",
    "\n",
    "def print_result(winner = \"Bilgisayar\"):\n",
    "    print(f\"Bilgisayarın Seçimi: {computer_choice}\\n\\nKazanan: {winner}\")\n",
    "    global player_score, computer_score\n",
    "    if winner == \"Bilgisayar\":\n",
    "        computer_score += 100\n",
    "    else:\n",
    "        player_score += 100\n",
    "\n",
    "print(\"Taş Kağıt Makas Oyununa Hoş geldiniz!\\n\" + \"-\"*37)\n",
    "\n",
    "while True:\n",
    "    print(\"\\n1 - Taş\\n2 - Kağıt \\n3 - Makas\\nOyundan çıkmak isterseniz bu değerler dışında bir değer giriniz\")\n",
    "    player_choice = int(input(\"Seçiminizi yapınız\"))\n",
    "    computer_choice = random.choice([1, 2, 3])\n",
    "\n",
    "    if player_choice == computer_choice:\n",
    "        print(\"Beraber, yeniden oynayınız\")\n",
    "    elif player_choice == 1:\n",
    "        if computer_choice == 2:\n",
    "            print_result()\n",
    "        elif computer_choice == 3:\n",
    "            print_result(\"Kullanıcı\")\n",
    "    elif player_choice == 2:\n",
    "        if computer_choice == 1:\n",
    "            print_result(\"Kullanıcı\")\n",
    "        elif computer_choice == 3:\n",
    "            print_result()\n",
    "    elif player_choice == 3:\n",
    "        if computer_choice == 1:\n",
    "            print_result()\n",
    "        elif computer_choice == 2:\n",
    "            print_result(\"Kullanıcı\")     \n",
    "    else:\n",
    "        break\n",
    "\n",
    "print(f\"\\n\\nKullanıcı skoru {player_score} - Bilgisayarın skoru {computer_score}\")\n",
    "if player_score > computer_score: print(\"Kazanan Kullanıcı\")\n",
    "elif player_score < computer_score: print(\"Kazanan Bilgisayar\")\n",
    "else: print(\"Oyun Berabere\")"
   ]
  }
 ],
 "metadata": {
  "language_info": {
   "name": "python"
  },
  "orig_nbformat": 4
 },
 "nbformat": 4,
 "nbformat_minor": 2
}
